{
 "cells": [
  {
   "cell_type": "markdown",
   "id": "4f39ad2e",
   "metadata": {},
   "source": [
    "## 3.2.1 Algoritmos de clasificación (Árbol de Decisión con Iris)"
   ]
  },
  {
   "cell_type": "code",
   "execution_count": 1,
   "id": "7d56be1b",
   "metadata": {},
   "outputs": [
    {
     "name": "stdout",
     "output_type": "stream",
     "text": [
      "Reporte de clasificación:\n",
      "               precision    recall  f1-score   support\n",
      "\n",
      "           0       1.00      1.00      1.00        14\n",
      "           1       0.94      0.94      0.94        18\n",
      "           2       0.92      0.92      0.92        13\n",
      "\n",
      "    accuracy                           0.96        45\n",
      "   macro avg       0.96      0.96      0.96        45\n",
      "weighted avg       0.96      0.96      0.96        45\n",
      "\n"
     ]
    }
   ],
   "source": [
    "from sklearn.datasets import load_iris\n",
    "from sklearn.tree import DecisionTreeClassifier\n",
    "from sklearn.model_selection import train_test_split\n",
    "from sklearn.metrics import classification_report\n",
    "# Cargar datos\n",
    "iris = load_iris(as_frame=True)\n",
    "X = iris.data\n",
    "y = iris.target\n",
    "# División de datos\n",
    "X_train, X_test, y_train, y_test = \n",
    "train_test_split(X, y, test_size=0.3, random_state=1)\n",
    "# Entrenamiento del modelo\n",
    "modelo = DecisionTreeClassifier()\n",
    "modelo.fit(X_train, y_train)\n",
    "# Predicción y evaluación\n",
    "y_pred = modelo.predict(X_test)\n",
    "print(\"Reporte de clasificación:\\n\", classification_report(y_test, y_pred))"
   ]
  },
  {
   "cell_type": "markdown",
   "id": "e0c75fb9",
   "metadata": {},
   "source": [
    "## 3.2.2 Algoritmos de clustering (K-means con datos Wine)"
   ]
  },
  {
   "cell_type": "code",
   "execution_count": 2,
   "id": "0f7a6272",
   "metadata": {},
   "outputs": [
    {
     "name": "stderr",
     "output_type": "stream",
     "text": [
      "C:\\Users\\memol\\AppData\\Local\\Programs\\Python\\Python312\\Lib\\site-packages\\sklearn\\cluster\\_kmeans.py:1416: FutureWarning: The default value of `n_init` will change from 10 to 'auto' in 1.4. Set the value of `n_init` explicitly to suppress the warning\n",
      "  super()._check_params_vs_input(X, default_n_init=10)\n"
     ]
    },
    {
     "name": "stdout",
     "output_type": "stream",
     "text": [
      "           alcohol  malic_acid       ash  alcalinity_of_ash   magnesium  \\\n",
      "cluster                                                                   \n",
      "0        12.929839    2.504032  2.408065          19.890323  103.596774   \n",
      "1        13.804468    1.883404  2.426170          17.023404  105.510638   \n",
      "2        12.516667    2.494203  2.288551          20.823188   92.347826   \n",
      "\n",
      "         total_phenols  flavanoids  nonflavanoid_phenols  proanthocyanins  \\\n",
      "cluster                                                                     \n",
      "0             2.111129    1.584032              0.388387         1.503387   \n",
      "1             2.867234    3.014255              0.285319         1.910426   \n",
      "2             2.070725    1.758406              0.390145         1.451884   \n",
      "\n",
      "         color_intensity       hue  od280/od315_of_diluted_wines      proline  \n",
      "cluster                                                                        \n",
      "0               5.650323  0.883968                      2.365484   728.338710  \n",
      "1               5.702553  1.078298                      3.114043  1195.148936  \n",
      "2               4.086957  0.941159                      2.490725   458.231884  \n"
     ]
    }
   ],
   "source": [
    "from sklearn.datasets import load_wine\n",
    "from sklearn.cluster import KMeans\n",
    "import pandas as pd\n",
    "\n",
    "# Cargar datos\n",
    "wine = load_wine(as_frame=True)\n",
    "X = wine.data\n",
    "\n",
    "# Aplicar K-means\n",
    "modelo = KMeans(n_clusters=3, random_state=42)\n",
    "X['cluster'] = modelo.fit_predict(X)\n",
    "\n",
    "# Agrupar por clusters\n",
    "print(X.groupby('cluster').mean())"
   ]
  },
  {
   "cell_type": "markdown",
   "id": "953f35c5",
   "metadata": {},
   "source": [
    "## 3.2.3 Algoritmos de regresión (Regresión lineal con California Housing)"
   ]
  },
  {
   "cell_type": "code",
   "execution_count": null,
   "id": "c46184c9",
   "metadata": {},
   "outputs": [],
   "source": [
    "from sklearn.datasets import fetch_california_housing\n",
    "from sklearn.linear_model import LinearRegression\n",
    "from sklearn.model_selection import train_test_split\n",
    "import matplotlib.pyplot as plt\n",
    "\n",
    "# Cargar datos\n",
    "california = fetch_california_housing(as_frame=True)\n",
    "df = california.frame\n",
    "\n",
    "X = df[['MedInc', 'AveRooms']]\n",
    "y = df['MedHouseVal']\n",
    "\n",
    "# División\n",
    "X_train, X_test, y_train, y_test = train_test_split(X, y, test_size=0.2, random_state=42)\n",
    "\n",
    "# Modelo\n",
    "modelo = LinearRegression()\n",
    "modelo.fit(X_train, y_train)\n",
    "\n",
    "# Evaluación\n",
    "print(\"Coeficientes:\", modelo.coef_)\n",
    "print(\"R^2 en prueba:\", modelo.score(X_test, y_test))\n",
    "\n",
    "# Gráfico de predicción\n",
    "y_pred = modelo.predict(X_test)\n",
    "plt.scatter(y_test, y_pred, alpha=0.3)\n",
    "plt.xlabel(\"Valor Real\")\n",
    "plt.ylabel(\"Valor Predicho\")\n",
    "plt.title(\"Regresión Lineal - California Housing\")\n",
    "plt.grid(True)\n",
    "plt.show()"
   ]
  },
  {
   "cell_type": "markdown",
   "id": "13925eba",
   "metadata": {},
   "source": [
    "## 3.2.4 Algoritmos de aprendizaje de máquina (Random Forest con Iris)"
   ]
  },
  {
   "cell_type": "code",
   "execution_count": null,
   "id": "43af5454",
   "metadata": {},
   "outputs": [],
   "source": [
    "from sklearn.ensemble import RandomForestClassifier\n",
    "from sklearn.metrics import accuracy_score\n",
    "\n",
    "# Reutilizar datos Iris\n",
    "from sklearn.datasets import load_iris\n",
    "from sklearn.model_selection import train_test_split\n",
    "\n",
    "iris = load_iris(as_frame=True)\n",
    "X = iris.data\n",
    "y = iris.target\n",
    "\n",
    "X_train, X_test, y_train, y_test = train_test_split(X, y, test_size=0.3, random_state=1)\n",
    "\n",
    "# Modelo de Random Forest\n",
    "modelo = RandomForestClassifier(n_estimators=100, random_state=42)\n",
    "modelo.fit(X_train, y_train)\n",
    "\n",
    "# Evaluación\n",
    "y_pred = modelo.predict(X_test)\n",
    "print(\"Precisión:\", accuracy_score(y_test, y_pred))"
   ]
  }
 ],
 "metadata": {
  "kernelspec": {
   "display_name": "Python 3 (ipykernel)",
   "language": "python",
   "name": "python3"
  },
  "language_info": {
   "codemirror_mode": {
    "name": "ipython",
    "version": 3
   },
   "file_extension": ".py",
   "mimetype": "text/x-python",
   "name": "python",
   "nbconvert_exporter": "python",
   "pygments_lexer": "ipython3",
   "version": "3.12.6"
  }
 },
 "nbformat": 4,
 "nbformat_minor": 5
}
